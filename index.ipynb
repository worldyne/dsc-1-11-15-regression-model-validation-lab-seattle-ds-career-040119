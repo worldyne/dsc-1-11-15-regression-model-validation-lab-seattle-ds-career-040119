{
 "cells": [
  {
   "cell_type": "markdown",
   "metadata": {},
   "source": [
    "# Regression Model Validation - Lab\n",
    "\n",
    "## Introduction\n",
    "\n",
    "In this lab, you'll be able to validate your model using train-test-split.\n",
    "\n",
    "\n",
    "## Objectives\n",
    "\n",
    "You will be able to:\n",
    "\n",
    "- Calculate the mean squared error (MSE) as a measure of predictive performance\n",
    "- Validate the model using the test data\n"
   ]
  },
  {
   "cell_type": "markdown",
   "metadata": {},
   "source": [
    "## Let's use our Boston Housing Data again!\n",
    "\n",
    "This time, let's only include the variables that were previously selected using recursive feature elimination. We included the code to preprocess below."
   ]
  },
  {
   "cell_type": "code",
   "execution_count": 3,
   "metadata": {},
   "outputs": [],
   "source": [
    "import pandas as pd\n",
    "import numpy as np\n",
    "import matplotlib.pyplot as plt\n",
    "%matplotlib inline\n",
    "from sklearn.datasets import load_boston\n",
    "\n",
    "boston = load_boston()\n",
    "\n",
    "boston_features = pd.DataFrame(boston.data, columns = boston.feature_names)\n",
    "b = boston_features[\"B\"]\n",
    "logdis = np.log(boston_features[\"DIS\"])\n",
    "loglstat = np.log(boston_features[\"LSTAT\"])\n",
    "\n",
    "# minmax scaling\n",
    "boston_features[\"B\"] = (b-min(b))/(max(b)-min(b))\n",
    "boston_features[\"DIS\"] = (logdis-min(logdis))/(max(logdis)-min(logdis))\n",
    "\n",
    "#standardization\n",
    "boston_features[\"LSTAT\"] = (loglstat-np.mean(loglstat))/np.sqrt(np.var(loglstat))"
   ]
  },
  {
   "cell_type": "code",
   "execution_count": 4,
   "metadata": {},
   "outputs": [],
   "source": [
    "X = boston_features[['CHAS', 'RM', 'DIS', 'B', 'LSTAT']]\n",
    "y = pd.DataFrame(boston.target,columns=['target'])"
   ]
  },
  {
   "cell_type": "markdown",
   "metadata": {},
   "source": [
    "## Perform a train-test-split"
   ]
  },
  {
   "cell_type": "code",
   "execution_count": 5,
   "metadata": {},
   "outputs": [],
   "source": [
    "from sklearn.model_selection import train_test_split\n",
    "\n",
    "X_train,X_test,y_train,y_test = train_test_split(X,y,test_size=.2)"
   ]
  },
  {
   "cell_type": "markdown",
   "metadata": {},
   "source": [
    "## Apply your model to the train set"
   ]
  },
  {
   "cell_type": "markdown",
   "metadata": {},
   "source": [
    "#### Importing and initializing the model class"
   ]
  },
  {
   "cell_type": "code",
   "execution_count": 6,
   "metadata": {},
   "outputs": [],
   "source": [
    "from sklearn.linear_model import LinearRegression\n",
    "lr = LinearRegression()"
   ]
  },
  {
   "cell_type": "markdown",
   "metadata": {},
   "source": [
    "#### Fitting the model to the train data"
   ]
  },
  {
   "cell_type": "code",
   "execution_count": 7,
   "metadata": {},
   "outputs": [
    {
     "data": {
      "text/plain": [
       "LinearRegression(copy_X=True, fit_intercept=True, n_jobs=None,\n",
       "         normalize=False)"
      ]
     },
     "execution_count": 7,
     "metadata": {},
     "output_type": "execute_result"
    }
   ],
   "source": [
    "lr.fit(X_train,y_train)"
   ]
  },
  {
   "cell_type": "markdown",
   "metadata": {},
   "source": [
    "#### Calculating predictions on the train set, and on the test set"
   ]
  },
  {
   "cell_type": "code",
   "execution_count": 8,
   "metadata": {},
   "outputs": [],
   "source": [
    "y_hat_train = lr.predict(X_train)\n",
    "y_hat_test = lr.predict(X_test)"
   ]
  },
  {
   "cell_type": "markdown",
   "metadata": {},
   "source": [
    "#### Calculating your residuals"
   ]
  },
  {
   "cell_type": "code",
   "execution_count": 9,
   "metadata": {},
   "outputs": [
    {
     "name": "stdout",
     "output_type": "stream",
     "text": [
      "        target\n",
      "376   4.456963\n",
      "258  -4.675011\n",
      "240   0.079744\n",
      "400   8.906254\n",
      "279  -2.851099\n",
      "471   1.277661\n",
      "457  -0.836304\n",
      "200  -0.809947\n",
      "204  -8.928572\n",
      "297  -5.358924\n",
      "175   1.752191\n",
      "492   0.816584\n",
      "222   1.410653\n",
      "24    0.622916\n",
      "397   8.179358\n",
      "144  -1.360287\n",
      "168  -0.983219\n",
      "493  -1.086982\n",
      "25   -0.032463\n",
      "97   -0.212713\n",
      "446   3.311403\n",
      "327  -3.521783\n",
      "335   2.035573\n",
      "226   4.068408\n",
      "73    1.236028\n",
      "61    0.040757\n",
      "460   2.392958\n",
      "176  -0.947198\n",
      "485   1.130052\n",
      "295  -0.710327\n",
      "..         ...\n",
      "483  -1.194959\n",
      "30   -0.916725\n",
      "427   5.752057\n",
      "169   0.743710\n",
      "230  -3.954548\n",
      "361   0.452752\n",
      "318   0.158455\n",
      "454  -0.233562\n",
      "451   4.138532\n",
      "488   1.200745\n",
      "285   1.584192\n",
      "63   -2.160763\n",
      "417  -1.478984\n",
      "87    2.149647\n",
      "9    -4.302114\n",
      "51    0.726105\n",
      "479   0.625210\n",
      "452   2.648202\n",
      "394   6.298470\n",
      "405  10.297631\n",
      "280  -7.621570\n",
      "16    2.561935\n",
      "28    2.177902\n",
      "403   7.030366\n",
      "406  -1.534131\n",
      "468  -2.968679\n",
      "180  -7.743372\n",
      "310   0.866618\n",
      "336   1.376022\n",
      "90    2.875933\n",
      "\n",
      "[404 rows x 1 columns]\n",
      "        target\n",
      "401  11.441223\n",
      "444   2.067510\n",
      "66   -0.015097\n",
      "270  -2.810624\n",
      "459  -0.581444\n",
      "450   2.232132\n",
      "207  -7.858608\n",
      "4    -5.072868\n",
      "181 -11.767036\n",
      "238   3.045703\n",
      "221  -3.035539\n",
      "458   2.649684\n",
      "215  -1.842065\n",
      "242  -2.343519\n",
      "71   -0.872569\n",
      "399   6.043400\n",
      "437   1.260737\n",
      "328   1.228769\n",
      "67    0.210138\n",
      "1     2.036422\n",
      "283  -7.326385\n",
      "287   1.081802\n",
      "130   3.890619\n",
      "284  -5.978801\n",
      "142   3.054050\n",
      "233  -8.896442\n",
      "84   -0.787235\n",
      "430   1.052405\n",
      "55   -4.017445\n",
      "383   1.656302\n",
      "..         ...\n",
      "413  -3.786738\n",
      "313   4.358805\n",
      "261 -10.732512\n",
      "464  -0.709826\n",
      "435   0.383439\n",
      "154   6.134177\n",
      "167  -4.709177\n",
      "504   8.827598\n",
      "202  -4.060706\n",
      "122  -2.956402\n",
      "350   3.607578\n",
      "141  -5.483548\n",
      "187  -3.008994\n",
      "482   4.776687\n",
      "110  -0.713130\n",
      "338   2.662738\n",
      "352   2.390849\n",
      "80    2.162990\n",
      "250   2.786954\n",
      "20   -0.990161\n",
      "334   4.825382\n",
      "378   4.456623\n",
      "160   7.327417\n",
      "18   -2.833802\n",
      "114   5.597979\n",
      "390   2.553799\n",
      "402   6.373789\n",
      "345   1.602983\n",
      "150  -0.127012\n",
      "344   0.224103\n",
      "\n",
      "[102 rows x 1 columns]\n"
     ]
    }
   ],
   "source": [
    "train_residuals = y_hat_train - y_train\n",
    "test_residuals = y_hat_test - y_test\n",
    "print(train_residuals)\n",
    "print(test_residuals)"
   ]
  },
  {
   "cell_type": "markdown",
   "metadata": {},
   "source": [
    "#### Calculating the Mean Squared Error\n",
    "A good way to compare overall performance is to compare the mean squarred error for the predicted values on the train and test sets."
   ]
  },
  {
   "cell_type": "code",
   "execution_count": 10,
   "metadata": {},
   "outputs": [],
   "source": [
    "from sklearn.metrics import mean_squared_error"
   ]
  },
  {
   "cell_type": "code",
   "execution_count": 11,
   "metadata": {},
   "outputs": [
    {
     "name": "stdout",
     "output_type": "stream",
     "text": [
      "21.23089935237338\n",
      "23.858519448446664\n"
     ]
    }
   ],
   "source": [
    "train_mse = mean_squared_error(y_train,y_hat_train)\n",
    "test_mse = mean_squared_error(y_test,y_hat_test)\n",
    "print(train_mse)\n",
    "print(test_mse)"
   ]
  },
  {
   "cell_type": "markdown",
   "metadata": {},
   "source": [
    "If your test error is substantially worse then our train error, this is a sign that our model doesn't generalize well to future cases."
   ]
  },
  {
   "cell_type": "markdown",
   "metadata": {},
   "source": [
    "One simple way to demonstrate overfitting and underfitting is to alter the size of our train test split. By default, scikit learn's built in method allocates 25% of the data to the test set and 75% to the training set. Fitting a model on only 10% of the data is apt to lead to underfitting, while training a model on 99% of the data is apt to lead to overfitting."
   ]
  },
  {
   "cell_type": "markdown",
   "metadata": {},
   "source": [
    "# Evaluating the effect of train-test split size\n",
    "\n",
    "Iterate over a range of train-test split sizes from .5 to .95. For each of these, generate a new train/test split sample. Fit a model to the training sample and calculate both the training error and the test error (mse) for each of these splits. Plot these two curves (train error vs. training size and test error vs. training size) on a graph."
   ]
  },
  {
   "cell_type": "code",
   "execution_count": 15,
   "metadata": {},
   "outputs": [
    {
     "data": {
      "text/plain": [
       "<matplotlib.legend.Legend at 0x7f0f05e6d320>"
      ]
     },
     "execution_count": 15,
     "metadata": {},
     "output_type": "execute_result"
    },
    {
     "data": {
      "image/png": "[encoded data removed]",
      "text/plain": [
       "<Figure size 432x288 with 1 Axes>"
      ]
     },
     "metadata": {
      "needs_background": "light"
     },
     "output_type": "display_data"
    }
   ],
   "source": [
    "train_err = []\n",
    "test_err = []\n",
    "test_sizes = list(range(5,95,10))\n",
    "for x in range(5,95,10):\n",
    "    X_train, X_test, y_train, y_test = train_test_split(X,y,test_size=x/100)\n",
    "    lr.fit(X_train, y_train)\n",
    "    y_hat_train = lr.predict(X_train)\n",
    "    y_hat_test = lr.predict(X_test)\n",
    "    train_err.append(mean_squared_error(y_train,y_hat_train))\n",
    "    test_err.append(mean_squared_error(y_test, y_hat_test))\n",
    "\n",
    "plt.scatter(test_sizes,train_err, label='Training Error')\n",
    "plt.scatter(test_sizes,test_err, label='Test Error')\n",
    "plt.legend()"
   ]
  },
  {
   "cell_type": "markdown",
   "metadata": {},
   "source": [
    "# Evaluating the effect of train-test split size: extension\n",
    "\n",
    "Repeat the previous example, but for each train-test split size, generate 100 iterations of models/errors and save the average train/test error. This will help account for any particularly good/bad models that might have resulted from poor/good splits in the data. "
   ]
  },
  {
   "cell_type": "code",
   "execution_count": 16,
   "metadata": {},
   "outputs": [
    {
     "data": {
      "text/plain": [
       "<matplotlib.legend.Legend at 0x7f0f05ddf0f0>"
      ]
     },
     "execution_count": 16,
     "metadata": {},
     "output_type": "execute_result"
    },
    {
     "data": {
      "image/png": "[encoded data removed]",
      "text/plain": [
       "<Figure size 432x288 with 1 Axes>"
      ]
     },
     "metadata": {
      "needs_background": "light"
     },
     "output_type": "display_data"
    }
   ],
   "source": [
    "train_err = []\n",
    "test_err = []\n",
    "mean_error_train = []\n",
    "mean_error_test = []\n",
    "test_sizes = list(range(5,95,10))\n",
    "for x in test_sizes:\n",
    "    for n in range(0,100):\n",
    "        X_train, X_test, y_train, y_test = train_test_split(X,y,test_size=x/100)\n",
    "        lr.fit(X_train,y_train)\n",
    "        y_hat_train = lr.predict(X_train)\n",
    "        y_hat_test = lr.predict(X_test)\n",
    "        train_err.append(mean_squared_error(y_train,y_hat_train))\n",
    "        test_err.append(mean_squared_error(y_test,y_hat_test))\n",
    "    mean_error_train.append(np.mean(train_err))\n",
    "    mean_error_test.append(np.mean(test_err))\n",
    "plt.scatter(test_sizes,mean_error_train, label='Training Error')\n",
    "plt.scatter(test_sizes,mean_error_test,label='Test Error')\n",
    "plt.legend()\n",
    "    "
   ]
  },
  {
   "cell_type": "markdown",
   "metadata": {},
   "source": [
    "What's happening here? evaluate your result!"
   ]
  },
  {
   "cell_type": "markdown",
   "metadata": {},
   "source": [
    "##  Summary "
   ]
  },
  {
   "cell_type": "markdown",
   "metadata": {},
   "source": [
    "Congratulations! You now practiced your knowledge on MSE and on using train-test-split."
   ]
  }
 ],
 "metadata": {
  "kernelspec": {
   "display_name": "Python 3",
   "language": "python",
   "name": "python3"
  },
  "language_info": {
   "codemirror_mode": {
    "name": "ipython",
    "version": 3
   },
   "file_extension": ".py",
   "mimetype": "text/x-python",
   "name": "python",
   "nbconvert_exporter": "python",
   "pygments_lexer": "ipython3",
   "version": "3.6.6"
  }
 },
 "nbformat": 4,
 "nbformat_minor": 2
}
